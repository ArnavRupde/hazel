{
 "cells": [
  {
   "cell_type": "code",
   "execution_count": 1,
   "metadata": {},
   "outputs": [
    {
     "name": "stderr",
     "output_type": "stream",
     "text": [
      "Using TensorFlow backend.\n"
     ]
    }
   ],
   "source": [
    "\n",
    "from __future__ import print_function\n",
    "import keras\n",
    "from keras.datasets import mnist\n",
    "from keras.models import Sequential\n",
    "from keras.layers import Dense, Dropout, Flatten\n",
    "from keras.layers import Conv2D, MaxPooling2D\n",
    "from keras import backend as K\n",
    "import numpy as np\n"
   ]
  },
  {
   "cell_type": "code",
   "execution_count": 2,
   "metadata": {},
   "outputs": [],
   "source": [
    "(x_train, y_train), (x_test, y_test) = mnist.load_data()"
   ]
  },
  {
   "cell_type": "code",
   "execution_count": 3,
   "metadata": {},
   "outputs": [],
   "source": [
    "x_train = x_train.reshape(x_train.shape+(1,))\n",
    "x_test = x_test.reshape(x_test.shape+(1,))"
   ]
  },
  {
   "cell_type": "code",
   "execution_count": 4,
   "metadata": {},
   "outputs": [],
   "source": [
    "class OneHotEncoder:\n",
    "    \"\"\"A class that can format data.\n",
    "    This class provides ways to transform data's classification label into vector.\n",
    "    Attributes:\n",
    "          data: The input data\n",
    "          n_classes: The number of classes in the classification problem.\n",
    "          labels: The number of labels.\n",
    "          label_to_vec: Mapping from label to vector.\n",
    "          int_to_label: Mapping from int to label.\n",
    "    \"\"\"\n",
    "\n",
    "    def __init__(self):\n",
    "        \"\"\"Initialize a OneHotEncoder\"\"\"\n",
    "        self.data = None\n",
    "        self.n_classes = 0\n",
    "        self.labels = None\n",
    "        self.label_to_vec = {}\n",
    "        self.int_to_label = {}\n",
    "\n",
    "    def fit(self, data):\n",
    "        \"\"\"Create mapping from label to vector, and vector to label.\"\"\"\n",
    "        data = np.array(data).flatten()\n",
    "        self.labels = set(data)\n",
    "        self.n_classes = len(self.labels)\n",
    "        for index, label in enumerate(self.labels):\n",
    "            vec = np.array([0] * self.n_classes)\n",
    "            vec[index] = 1\n",
    "            self.label_to_vec[label] = vec\n",
    "            self.int_to_label[index] = label\n",
    "\n",
    "    def transform(self, data):\n",
    "        \"\"\"Get vector for every element in the data array.\"\"\"\n",
    "        data = np.array(data)\n",
    "        if len(data.shape) > 1:\n",
    "            data = data.flatten()\n",
    "        return np.array(list(map(lambda x: self.label_to_vec[x], data)))\n",
    "\n",
    "    def inverse_transform(self, data):\n",
    "        \"\"\"Get label for every element in data.\"\"\"\n",
    "        return np.array(list(map(lambda x: self.int_to_label[x], np.argmax(np.array(data), axis=1))))"
   ]
  },
  {
   "cell_type": "code",
   "execution_count": 5,
   "metadata": {},
   "outputs": [],
   "source": [
    "def transform_y(y_train):\n",
    "    # Transform y_train.\n",
    "    y_encoder = OneHotEncoder()\n",
    "    y_encoder.fit(y_train)\n",
    "    y_train = y_encoder.transform(y_train)\n",
    "    return y_train"
   ]
  },
  {
   "cell_type": "code",
   "execution_count": 6,
   "metadata": {},
   "outputs": [],
   "source": [
    "y_test = transform_y(y_test)\n",
    "y_train = transform_y(y_train)"
   ]
  },
  {
   "cell_type": "code",
   "execution_count": 11,
   "metadata": {},
   "outputs": [
    {
     "data": {
      "text/plain": [
       "(28, 28, 1)"
      ]
     },
     "execution_count": 11,
     "metadata": {},
     "output_type": "execute_result"
    }
   ],
   "source": [
    "x_train.shape[1:]"
   ]
  },
  {
   "cell_type": "code",
   "execution_count": 13,
   "metadata": {},
   "outputs": [],
   "source": [
    "model = Sequential()\n",
    "model.add(Conv2D(32, kernel_size=(3, 3),\n",
    "                 activation='relu',\n",
    "                 input_shape=x_train.shape[1:]))\n",
    "model.add(Conv2D(64, (3, 3), activation='relu'))\n",
    "model.add(MaxPooling2D(pool_size=(2, 2)))\n",
    "model.add(Dropout(0.25))\n",
    "model.add(Flatten())\n",
    "model.add(Dense(128, activation='relu'))\n",
    "model.add(Dropout(0.5))\n",
    "model.add(Dense(10, activation='softmax'))"
   ]
  },
  {
   "cell_type": "code",
   "execution_count": 14,
   "metadata": {},
   "outputs": [],
   "source": [
    "model.compile(loss=keras.losses.categorical_crossentropy,\n",
    "              optimizer=keras.optimizers.Adadelta(),\n",
    "              metrics=['accuracy'])\n"
   ]
  },
  {
   "cell_type": "code",
   "execution_count": 17,
   "metadata": {},
   "outputs": [
    {
     "name": "stdout",
     "output_type": "stream",
     "text": [
      "Train on 60000 samples, validate on 10000 samples\n",
      "Epoch 1/1\n",
      "60000/60000 [==============================] - 189s 3ms/step - loss: 0.1273 - acc: 0.9636 - val_loss: 0.0515 - val_acc: 0.9834\n",
      "7\n"
     ]
    }
   ],
   "source": [
    "model.fit(x_train, y_train,\n",
    "          verbose=1,\n",
    "          validation_data=(x_test, y_test))\n",
    "score = model.evaluate(x_test, y_test, verbose=0)\n",
    "# print('Test loss:', score[0])\n",
    "# print('Test accuracy:', score[1])\n",
    "val = model.predict(x_test)\n",
    "print(val[0].argmax(axis=0))"
   ]
  }
 ],
 "metadata": {
  "kernelspec": {
   "display_name": "Python 3",
   "language": "python",
   "name": "python3"
  },
  "language_info": {
   "codemirror_mode": {
    "name": "ipython",
    "version": 3
   },
   "file_extension": ".py",
   "mimetype": "text/x-python",
   "name": "python",
   "nbconvert_exporter": "python",
   "pygments_lexer": "ipython3",
   "version": "3.6.6"
  }
 },
 "nbformat": 4,
 "nbformat_minor": 2
}
