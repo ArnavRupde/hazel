{
 "cells": [
  {
   "cell_type": "code",
   "execution_count": null,
   "metadata": {},
   "outputs": [],
   "source": [
    "def generator(dir):                                                                                                  \n",
    "    r = []                                                                                                            \n",
    "    subdirs = [x[0] for x in os.walk(dir)]                                                                            \n",
    "    for subdir in subdirs:                                                                                            \n",
    "        files = os.walk(subdir).next()[2]                                                                             \n",
    "        if (len(files) > 0):                                                                                          \n",
    "            for file in files:                                                                                        \n",
    "                r.append(subdir + \"/\" + file)  \n",
    "                img=cv2.imread(subdir + \"/\" + file)\n",
    "                resized_image = cv2.resize(img, (30, 30))   \n",
    "                x=resized_image\n",
    "                y=dir  \n",
    "                #dataset.append(resized_image)"
   ]
  },
  {
   "cell_type": "code",
   "execution_count": 26,
   "metadata": {},
   "outputs": [],
   "source": [
    "import keras\n",
    "from keras.datasets import mnist\n",
    "from keras.models import Sequential\n",
    "from keras.layers import Dense, Dropout, Flatten\n",
    "from keras.layers import Conv2D, MaxPooling2D\n",
    "from keras import backend as K\n",
    "from autokeras.preprocessor import OneHotEncoder\n",
    "from keras.models import load_model\n",
    "import os\n",
    "from PIL import Image\n",
    "import numpy as np"
   ]
  },
  {
   "cell_type": "code",
   "execution_count": 4,
   "metadata": {},
   "outputs": [],
   "source": [
    "def generator(dir):                                                                                                  \n",
    "    r = []                                                                                                            \n",
    "    subdirs = [x[0] for x in os.walk(dir)]                                                                            \n",
    "    for subdir in subdirs:                                                                                            \n",
    "        files = os.walk(subdir).next()[2]                                                                             \n",
    "        if (len(files) > 0):                                                                                          \n",
    "            for file in files:                                                                                        \n",
    "                r.append(subdir + \"/\" + file)  \n",
    "                img=cv2.imread(subdir + \"/\" + file)\n",
    "                resized_image = cv2.resize(img, (30, 30))   \n",
    "                x=resized_image\n",
    "                y=subdir\n",
    "                return x,y"
   ]
  },
  {
   "cell_type": "code",
   "execution_count": 17,
   "metadata": {},
   "outputs": [
    {
     "name": "stdout",
     "output_type": "stream",
     "text": [
      "../../pictures\n",
      "('../../pictures', ['3', '5', '4', '7', '2', '8', '6', '1'], [])\n",
      "('../../pictures/3', [], ['IMG_20181020_160223.jpg', 'IMG_20181020_160225.jpg', 'IMG_20181020_160232.jpg', 'IMG_20181020_160230.jpg', 'IMG_20181020_160220.jpg', 'IMG_20181020_160236.jpg', 'IMG_20181020_160227.jpg', 'IMG_20181020_160228.jpg', 'IMG_20181020_160234.jpg', 'IMG_20181020_160221.jpg'])\n",
      "('../../pictures/5', [], ['IMG_20181020_160306.jpg', 'IMG_20181020_160303.jpg', 'IMG_20181020_160304.jpg', 'IMG_20181020_160312.jpg', 'IMG_20181020_160311.jpg', 'IMG_20181020_160308.jpg', 'IMG_20181020_160313.jpg', 'IMG_20181020_160315.jpg', 'IMG_20181020_160309.jpg', 'IMG_20181020_160302.jpg'])\n",
      "('../../pictures/4', [], ['IMG_20181020_160255.jpg', 'IMG_20181020_160239.jpg', 'IMG_20181020_160254.jpg', 'IMG_20181020_160257.jpg', 'IMG_20181020_160246.jpg', 'IMG_20181020_160248.jpg', 'IMG_20181020_160250.jpg', 'IMG_20181020_160237.jpg', 'IMG_20181020_160253.jpg', 'IMG_20181020_160251.jpg'])\n",
      "('../../pictures/7', [], ['IMG_20181020_160356.jpg', 'IMG_20181020_160411.jpg', 'IMG_20181020_160412.jpg', 'IMG_20181020_160352.jpg', 'IMG_20181020_160403.jpg', 'IMG_20181020_160408.jpg', 'IMG_20181020_160409.jpg', 'IMG_20181020_160354.jpg', 'IMG_20181020_160358.jpg', 'IMG_20181020_160405.jpg', 'IMG_20181020_160400.jpg'])\n",
      "('../../pictures/2', [], ['IMG_20181020_160211.jpg', 'IMG_20181020_160212.jpg', 'IMG_20181020_160209.jpg', 'IMG_20181020_160207.jpg', 'IMG_20181020_160202.jpg', 'IMG_20181020_160204.jpg', 'IMG_20181020_160200.jpg', 'IMG_20181020_160206.jpg', 'IMG_20181020_160159.jpg', 'IMG_20181020_160201.jpg'])\n",
      "('../../pictures/8', [], ['IMG_20181020_160418.jpg', 'IMG_20181020_160425.jpg', 'IMG_20181020_160423.jpg', 'IMG_20181020_160428.jpg', 'IMG_20181020_160422.jpg', 'IMG_20181020_160429.jpg', 'IMG_20181020_160430.jpg', 'IMG_20181020_160420.jpg', 'IMG_20181020_160427.jpg', 'IMG_20181020_160426.jpg'])\n",
      "('../../pictures/6', [], ['IMG_20181020_160328.jpg', 'IMG_20181020_160332.jpg', 'IMG_20181020_160337.jpg', 'IMG_20181020_160333.jpg', 'IMG_20181020_160324.jpg', 'IMG_20181020_160331.jpg', 'IMG_20181020_160334.jpg', 'IMG_20181020_160330.jpg', 'IMG_20181020_160326.jpg', 'IMG_20181020_160335.jpg'])\n",
      "('../../pictures/1', [], ['IMG_20181020_160139.jpg', 'IMG_20181020_160137.jpg', 'IMG_20181020_160138.jpg', 'IMG_20181020_160143.jpg', 'IMG_20181020_160141.jpg', 'IMG_20181020_160137_1.jpg', 'IMG_20181020_160145.jpg', 'IMG_20181020_160141_1.jpg', 'IMG_20181020_160139_1.jpg', 'IMG_20181020_160144.jpg'])\n",
      "../../pictures/3\n",
      "('../../pictures/3', [], ['IMG_20181020_160223.jpg', 'IMG_20181020_160225.jpg', 'IMG_20181020_160232.jpg', 'IMG_20181020_160230.jpg', 'IMG_20181020_160220.jpg', 'IMG_20181020_160236.jpg', 'IMG_20181020_160227.jpg', 'IMG_20181020_160228.jpg', 'IMG_20181020_160234.jpg', 'IMG_20181020_160221.jpg'])\n",
      "../../pictures/5\n",
      "('../../pictures/5', [], ['IMG_20181020_160306.jpg', 'IMG_20181020_160303.jpg', 'IMG_20181020_160304.jpg', 'IMG_20181020_160312.jpg', 'IMG_20181020_160311.jpg', 'IMG_20181020_160308.jpg', 'IMG_20181020_160313.jpg', 'IMG_20181020_160315.jpg', 'IMG_20181020_160309.jpg', 'IMG_20181020_160302.jpg'])\n",
      "../../pictures/4\n",
      "('../../pictures/4', [], ['IMG_20181020_160255.jpg', 'IMG_20181020_160239.jpg', 'IMG_20181020_160254.jpg', 'IMG_20181020_160257.jpg', 'IMG_20181020_160246.jpg', 'IMG_20181020_160248.jpg', 'IMG_20181020_160250.jpg', 'IMG_20181020_160237.jpg', 'IMG_20181020_160253.jpg', 'IMG_20181020_160251.jpg'])\n",
      "../../pictures/7\n",
      "('../../pictures/7', [], ['IMG_20181020_160356.jpg', 'IMG_20181020_160411.jpg', 'IMG_20181020_160412.jpg', 'IMG_20181020_160352.jpg', 'IMG_20181020_160403.jpg', 'IMG_20181020_160408.jpg', 'IMG_20181020_160409.jpg', 'IMG_20181020_160354.jpg', 'IMG_20181020_160358.jpg', 'IMG_20181020_160405.jpg', 'IMG_20181020_160400.jpg'])\n",
      "../../pictures/2\n",
      "('../../pictures/2', [], ['IMG_20181020_160211.jpg', 'IMG_20181020_160212.jpg', 'IMG_20181020_160209.jpg', 'IMG_20181020_160207.jpg', 'IMG_20181020_160202.jpg', 'IMG_20181020_160204.jpg', 'IMG_20181020_160200.jpg', 'IMG_20181020_160206.jpg', 'IMG_20181020_160159.jpg', 'IMG_20181020_160201.jpg'])\n",
      "../../pictures/8\n",
      "('../../pictures/8', [], ['IMG_20181020_160418.jpg', 'IMG_20181020_160425.jpg', 'IMG_20181020_160423.jpg', 'IMG_20181020_160428.jpg', 'IMG_20181020_160422.jpg', 'IMG_20181020_160429.jpg', 'IMG_20181020_160430.jpg', 'IMG_20181020_160420.jpg', 'IMG_20181020_160427.jpg', 'IMG_20181020_160426.jpg'])\n",
      "../../pictures/6\n",
      "('../../pictures/6', [], ['IMG_20181020_160328.jpg', 'IMG_20181020_160332.jpg', 'IMG_20181020_160337.jpg', 'IMG_20181020_160333.jpg', 'IMG_20181020_160324.jpg', 'IMG_20181020_160331.jpg', 'IMG_20181020_160334.jpg', 'IMG_20181020_160330.jpg', 'IMG_20181020_160326.jpg', 'IMG_20181020_160335.jpg'])\n",
      "../../pictures/1\n",
      "('../../pictures/1', [], ['IMG_20181020_160139.jpg', 'IMG_20181020_160137.jpg', 'IMG_20181020_160138.jpg', 'IMG_20181020_160143.jpg', 'IMG_20181020_160141.jpg', 'IMG_20181020_160137_1.jpg', 'IMG_20181020_160145.jpg', 'IMG_20181020_160141_1.jpg', 'IMG_20181020_160139_1.jpg', 'IMG_20181020_160144.jpg'])\n"
     ]
    }
   ],
   "source": [
    "generator(\"../../pictures\")"
   ]
  },
  {
   "cell_type": "code",
   "execution_count": 16,
   "metadata": {},
   "outputs": [],
   "source": [
    "def generator(dir):                                                                                                  \n",
    "    r = []                                                                                                            \n",
    "    subdirs = [x[0] for x in os.walk(dir)]                                                                            \n",
    "    for subdir in subdirs:                                                                                            \n",
    "        print(subdir)\n",
    "        files = os.walk(subdir)  \n",
    "        for file in files:\n",
    "            print(file)"
   ]
  },
  {
   "cell_type": "code",
   "execution_count": 53,
   "metadata": {},
   "outputs": [
    {
     "name": "stdout",
     "output_type": "stream",
     "text": [
      "Found 81 images belonging to 8 classes.\n"
     ]
    }
   ],
   "source": []
  },
  {
   "cell_type": "code",
   "execution_count": 54,
   "metadata": {},
   "outputs": [
    {
     "data": {
      "text/plain": [
       "<keras_preprocessing.image.DirectoryIterator at 0x7fe055e07780>"
      ]
     },
     "execution_count": 54,
     "metadata": {},
     "output_type": "execute_result"
    }
   ],
   "source": [
    "\n",
    "Q"
   ]
  },
  {
   "cell_type": "code",
   "execution_count": 104,
   "metadata": {},
   "outputs": [
    {
     "name": "stderr",
     "output_type": "stream",
     "text": [
      "/home/gautham/hacks/prototype/env/lib/python3.6/site-packages/ipykernel_launcher.py:14: DeprecationWarning: `imread` is deprecated!\n",
      "`imread` is deprecated in SciPy 1.0.0.\n",
      "Use ``matplotlib.pyplot.imread`` instead.\n",
      "  \n",
      "/home/gautham/hacks/prototype/env/lib/python3.6/site-packages/ipykernel_launcher.py:15: DeprecationWarning: `imresize` is deprecated!\n",
      "`imresize` is deprecated in SciPy 1.0.0, and will be removed in 1.2.0.\n",
      "Use ``skimage.transform.resize`` instead.\n",
      "  from ipykernel import kernelapp as app\n"
     ]
    }
   ],
   "source": [
    "import os\n",
    "from scipy import ndimage, misc\n",
    "import re\n",
    "\n",
    "images = []\n",
    "y=[]\n",
    "\n",
    "directory = \"../../pictures\"\n",
    "for root, dirnames, filenames in os.walk(directory):\n",
    "    for filename in filenames:\n",
    "        if re.search(\"\\.(jpg|jpeg|png|bmp|tiff)$\", filename):\n",
    "            filepath = os.path.join(root, filename)\n",
    "            y.append(int(root[len(directory)+1:]))\n",
    "            image = ndimage.imread(filepath, mode=\"RGB\")\n",
    "            image_resized = misc.imresize(image, (32, 32))\n",
    "            images.append(image_resized)\n"
   ]
  },
  {
   "cell_type": "code",
   "execution_count": 105,
   "metadata": {},
   "outputs": [],
   "source": [
    "x_train = np.array(images)\n",
    "y_train = np.array(y)"
   ]
  },
  {
   "cell_type": "code",
   "execution_count": 106,
   "metadata": {},
   "outputs": [],
   "source": [
    "y_encode = OneHotEncoder()\n",
    "def transform_y(y_train):\n",
    "    y_encoder = OneHotEncoder()\n",
    "    y_encoder.fit(y_train)\n",
    "    y_train = y_encoder.transform(y_train)\n",
    "    return y_train\n",
    "y_train = transform_y(y_train)"
   ]
  },
  {
   "cell_type": "code",
   "execution_count": 107,
   "metadata": {},
   "outputs": [
    {
     "name": "stdout",
     "output_type": "stream",
     "text": [
      "Epoch 1/20\n",
      "81/81 [==============================] - 1s 14ms/step - loss: 14.4572 - acc: 0.0988\n",
      "Epoch 2/20\n",
      "81/81 [==============================] - 0s 4ms/step - loss: 14.2496 - acc: 0.1111\n",
      "Epoch 3/20\n",
      "81/81 [==============================] - 0s 4ms/step - loss: 14.1282 - acc: 0.1235\n",
      "Epoch 4/20\n",
      "81/81 [==============================] - 0s 4ms/step - loss: 14.1282 - acc: 0.1235\n",
      "Epoch 5/20\n",
      "81/81 [==============================] - 0s 4ms/step - loss: 14.1282 - acc: 0.1235\n",
      "Epoch 6/20\n",
      "81/81 [==============================] - 0s 4ms/step - loss: 14.1282 - acc: 0.1235\n",
      "Epoch 7/20\n",
      "81/81 [==============================] - 0s 4ms/step - loss: 14.1282 - acc: 0.1235\n",
      "Epoch 8/20\n",
      "81/81 [==============================] - 0s 4ms/step - loss: 14.1282 - acc: 0.1235\n",
      "Epoch 9/20\n",
      "81/81 [==============================] - 0s 4ms/step - loss: 14.1282 - acc: 0.1235\n",
      "Epoch 10/20\n",
      "81/81 [==============================] - 0s 4ms/step - loss: 14.1282 - acc: 0.1235\n",
      "Epoch 11/20\n",
      "81/81 [==============================] - 0s 4ms/step - loss: 14.1282 - acc: 0.1235\n",
      "Epoch 12/20\n",
      "81/81 [==============================] - 0s 4ms/step - loss: 14.1282 - acc: 0.1235\n",
      "Epoch 13/20\n",
      "81/81 [==============================] - 0s 4ms/step - loss: 14.1282 - acc: 0.1235\n",
      "Epoch 14/20\n",
      "81/81 [==============================] - 0s 4ms/step - loss: 14.1282 - acc: 0.1235\n",
      "Epoch 15/20\n",
      "81/81 [==============================] - 0s 4ms/step - loss: 14.1282 - acc: 0.1235\n",
      "Epoch 16/20\n",
      "81/81 [==============================] - 0s 4ms/step - loss: 14.1282 - acc: 0.1235\n",
      "Epoch 17/20\n",
      "81/81 [==============================] - 0s 4ms/step - loss: 14.1282 - acc: 0.1235\n",
      "Epoch 18/20\n",
      "81/81 [==============================] - 0s 4ms/step - loss: 14.1282 - acc: 0.1235\n",
      "Epoch 19/20\n",
      "81/81 [==============================] - 0s 4ms/step - loss: 14.1282 - acc: 0.1235\n",
      "Epoch 20/20\n",
      "81/81 [==============================] - 0s 4ms/step - loss: 14.1282 - acc: 0.1235\n"
     ]
    },
    {
     "data": {
      "text/plain": [
       "<keras.callbacks.History at 0x7fdf9617ae80>"
      ]
     },
     "execution_count": 107,
     "metadata": {},
     "output_type": "execute_result"
    }
   ],
   "source": [
    "model = Sequential()\n",
    "model.add(Conv2D(32, kernel_size=(3, 3), activation='relu', input_shape=x_train.shape[1:]))\n",
    "model.add(Conv2D(64, kernel_size=(3, 3), activation='relu'))\n",
    "model.add(MaxPooling2D(pool_size=(2, 2)))\n",
    "model.add(Dropout(0.25))\n",
    "model.add(Flatten())\n",
    "model.add(Dense(128, activation='relu'))\n",
    "model.add(Dropout(0.5))\n",
    "model.add(Dense(y_train.shape[1], activation='softmax'))\n",
    "model.compile(loss=keras.losses.categorical_crossentropy, optimizer=keras.optimizers.Adadelta(), metrics=['accuracy'])\n",
    "model.fit(x_train, y_train,epochs=20)"
   ]
  },
  {
   "cell_type": "code",
   "execution_count": null,
   "metadata": {},
   "outputs": [],
   "source": [
    "\n",
    "(x_train, y_train), (x_test, y_test) = mnist.load_data()\n",
    "x_train = x_train.reshape(x_train.shape+(1,))\n",
    "x_test = x_test.reshape(x_test.shape+(1,))\n",
    "y_encode = OneHotEncoder()\n",
    "def transform_y(y_train):\n",
    "    y_encoder = OneHotEncoder()\n",
    "    y_encoder.fit(y_train)\n",
    "    y_train = y_encoder.transform(y_train)\n",
    "    return y_train\n",
    "y_test = transform_y(y_test)\n",
    "y_train = transform_y(y_train)\n",
    "model = Sequential()\n",
    "model.add(Conv2D(32, kernel_size=(3, 3), activation='relu', input_shape=x_train.shape[1:]))\n",
    "model.add(Conv2D(64, kernel_size=(3, 3), activation='relu'))\n",
    "model.add(MaxPooling2D(pool_size=(2, 2)))\n",
    "model.add(Dropout(0.25))\n",
    "model.add(Flatten())\n",
    "model.add(Dense(128, activation='relu'))\n",
    "model.add(Dropout(0.5))\n",
    "model.add(Dense(10, activation='softmax'))\n",
    "model.compile(loss=keras.losses.categorical_crossentropy, optimizer=keras.optimizers.Adadelta(), metrics=['accuracy'])\n",
    "model.fit(x_train, y_train, validation_data=(x_test, y_test))\n",
    "score = model.evaluate(x_test, y_test, verbose=0)\n",
    "print('Test loss:', score[0])\n",
    "print('Test accuracy:', score[1])\n",
    "model.save('my_model.h5')"
   ]
  }
 ],
 "metadata": {
  "kernelspec": {
   "display_name": "Python 3",
   "language": "python",
   "name": "python3"
  },
  "language_info": {
   "codemirror_mode": {
    "name": "ipython",
    "version": 3
   },
   "file_extension": ".py",
   "mimetype": "text/x-python",
   "name": "python",
   "nbconvert_exporter": "python",
   "pygments_lexer": "ipython3",
   "version": "3.6.6"
  }
 },
 "nbformat": 4,
 "nbformat_minor": 2
}
