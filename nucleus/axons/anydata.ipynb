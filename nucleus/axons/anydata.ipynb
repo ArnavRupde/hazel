{
 "cells": [
  {
   "cell_type": "code",
   "execution_count": null,
   "metadata": {},
   "outputs": [],
   "source": [
    "def generator(dir):                                                                                                  \n",
    "    r = []                                                                                                            \n",
    "    subdirs = [x[0] for x in os.walk(dir)]                                                                            \n",
    "    for subdir in subdirs:                                                                                            \n",
    "        files = os.walk(subdir).next()[2]                                                                             \n",
    "        if (len(files) > 0):                                                                                          \n",
    "            for file in files:                                                                                        \n",
    "                r.append(subdir + \"/\" + file)  \n",
    "                img=cv2.imread(subdir + \"/\" + file)\n",
    "                resized_image = cv2.resize(img, (30, 30))   \n",
    "                x=resized_image\n",
    "                y=dir  \n",
    "                #dataset.append(resized_image)"
   ]
  },
  {
   "cell_type": "code",
   "execution_count": 1,
   "metadata": {},
   "outputs": [
    {
     "name": "stderr",
     "output_type": "stream",
     "text": [
      "Using TensorFlow backend.\n",
      "/home/gautham/hacks/prototype/env/lib/python3.6/site-packages/tqdm/autonotebook/__init__.py:14: TqdmExperimentalWarning: Using `tqdm.autonotebook.tqdm` in notebook mode. Use `tqdm.tqdm` instead to force console mode (e.g. in jupyter console)\n",
      "  \" (e.g. in jupyter console)\", TqdmExperimentalWarning)\n"
     ]
    }
   ],
   "source": [
    "import keras\n",
    "from keras.datasets import mnist\n",
    "from keras.models import Sequential\n",
    "from keras.layers import Dense, Dropout, Flatten\n",
    "from keras.layers import Conv2D, MaxPooling2D\n",
    "from keras import backend as K\n",
    "from autokeras.preprocessor import OneHotEncoder\n",
    "from keras.models import load_model\n",
    "\n",
    "import os\n",
    "import numpy as np\n",
    "import re\n",
    "import cv2"
   ]
  },
  {
   "cell_type": "code",
   "execution_count": null,
   "metadata": {},
   "outputs": [],
   "source": [
    "\n",
    "def generator(dir):                                                                                                  \n",
    "    r = []                                                                                                            \n",
    "    subdirs = [x[0] for x in os.walk(dir)]                                                                            \n",
    "    for subdir in subdirs:                                                                                            \n",
    "        files = os.walk(subdir).next()[2]                                                                             \n",
    "        if (len(files) > 0):                                                                                          \n",
    "            for file in files:                                                                                        \n",
    "                r.append(subdir + \"/\" + file)  \n",
    "                img=cv2.imread(subdir + \"/\" + file)\n",
    "                resized_image = cv2.resize(img, (30, 30))   \n",
    "                x=resized_image\n",
    "                y=subdir\n",
    "                return x,y"
   ]
  },
  {
   "cell_type": "code",
   "execution_count": null,
   "metadata": {},
   "outputs": [],
   "source": [
    "generator(\"../../pictures\")"
   ]
  },
  {
   "cell_type": "code",
   "execution_count": null,
   "metadata": {},
   "outputs": [],
   "source": [
    "def generator(dir):                                                                                                  \n",
    "    r = []                                                                                                            \n",
    "    subdirs = [x[0] for x in os.walk(dir)]                                                                            \n",
    "    for subdir in subdirs:                                                                                            \n",
    "        print(subdir)\n",
    "        files = os.walk(subdir)  \n",
    "        for file in files:\n",
    "            print(file)"
   ]
  },
  {
   "cell_type": "code",
   "execution_count": null,
   "metadata": {},
   "outputs": [],
   "source": []
  },
  {
   "cell_type": "code",
   "execution_count": null,
   "metadata": {},
   "outputs": [],
   "source": [
    "\n",
    "Q"
   ]
  },
  {
   "cell_type": "code",
   "execution_count": 15,
   "metadata": {},
   "outputs": [],
   "source": [
    "images = []\n",
    "y=[]\n",
    "directory = \"../../shoe_data\"\n",
    "for root, dirnames, filenames in os.walk(directory):\n",
    "    for filename in filenames:\n",
    "        if re.search(\"\\.(jpg|jpeg|png|bmp|tiff)$\", filename):\n",
    "            try:\n",
    "                filepath = os.path.join(root, filename)\n",
    "                img=cv2.imread(filepath)\n",
    "                resized_image = cv2.resize(img, (30, 30))   \n",
    "                images.append(resized_image)\n",
    "                string = root[len(directory)+1:]\n",
    "                y.append(re.match(\"(.*?)/\",string).group())\n",
    "            except:\n",
    "                pass        \n",
    "x_train = np.array(images)\n",
    "y_train = np.array(y)"
   ]
  },
  {
   "cell_type": "code",
   "execution_count": 16,
   "metadata": {},
   "outputs": [],
   "source": []
  },
  {
   "cell_type": "code",
   "execution_count": 17,
   "metadata": {},
   "outputs": [],
   "source": [
    "y_encode = OneHotEncoder()\n",
    "def transform_y(y_train):\n",
    "    y_encoder = OneHotEncoder()\n",
    "    y_encoder.fit(y_train)\n",
    "    y_train = y_encoder.transform(y_train)\n",
    "    return y_train\n",
    "y_train = transform_y(y_train)"
   ]
  },
  {
   "cell_type": "code",
   "execution_count": 18,
   "metadata": {},
   "outputs": [
    {
     "name": "stdout",
     "output_type": "stream",
     "text": [
      "Epoch 1/20\n",
      "45069/45069 [==============================] - 159s 4ms/step - loss: 12.8986 - acc: 0.1997\n",
      "Epoch 2/20\n",
      "45069/45069 [==============================] - 163s 4ms/step - loss: 12.8991 - acc: 0.1997\n",
      "Epoch 3/20\n",
      "45069/45069 [==============================] - 168s 4ms/step - loss: 12.8991 - acc: 0.1997\n",
      "Epoch 4/20\n",
      "45069/45069 [==============================] - 166s 4ms/step - loss: 12.8991 - acc: 0.1997\n",
      "Epoch 5/20\n",
      "45069/45069 [==============================] - 166s 4ms/step - loss: 12.8991 - acc: 0.1997\n",
      "Epoch 6/20\n",
      "45069/45069 [==============================] - 163s 4ms/step - loss: 12.8991 - acc: 0.1997\n",
      "Epoch 7/20\n",
      "45069/45069 [==============================] - 168s 4ms/step - loss: 12.8991 - acc: 0.1997\n",
      "Epoch 8/20\n",
      "45069/45069 [==============================] - 166s 4ms/step - loss: 12.8991 - acc: 0.1997\n",
      "Epoch 9/20\n",
      "45069/45069 [==============================] - 216s 5ms/step - loss: 7.1950 - acc: 0.5535\n",
      "Epoch 10/20\n",
      "45069/45069 [==============================] - 289s 6ms/step - loss: 5.5576 - acc: 0.6552\n",
      "Epoch 11/20\n",
      "45069/45069 [==============================] - 293s 7ms/step - loss: 5.5576 - acc: 0.6552\n",
      "Epoch 12/20\n",
      "45069/45069 [==============================] - 293s 6ms/step - loss: 5.5580 - acc: 0.6552\n",
      "Epoch 13/20\n",
      "45069/45069 [==============================] - 160s 4ms/step - loss: 5.5580 - acc: 0.6552\n",
      "Epoch 14/20\n",
      "45069/45069 [==============================] - 150s 3ms/step - loss: 5.5583 - acc: 0.6552\n",
      "Epoch 15/20\n",
      "45069/45069 [==============================] - 165s 4ms/step - loss: 5.5576 - acc: 0.6552\n",
      "Epoch 16/20\n",
      "45069/45069 [==============================] - 162s 4ms/step - loss: 5.5572 - acc: 0.6552\n",
      "Epoch 17/20\n",
      "45069/45069 [==============================] - 172s 4ms/step - loss: 5.5572 - acc: 0.6552\n",
      "Epoch 18/20\n",
      "45069/45069 [==============================] - 169s 4ms/step - loss: 5.5572 - acc: 0.6552\n",
      "Epoch 19/20\n",
      "45069/45069 [==============================] - 177s 4ms/step - loss: 5.5572 - acc: 0.6552\n",
      "Epoch 20/20\n",
      "45069/45069 [==============================] - 178s 4ms/step - loss: 5.5572 - acc: 0.6552\n"
     ]
    },
    {
     "data": {
      "text/plain": [
       "<keras.callbacks.History at 0x7fcd4296e550>"
      ]
     },
     "execution_count": 18,
     "metadata": {},
     "output_type": "execute_result"
    }
   ],
   "source": [
    "model = Sequential()\n",
    "model.add(Conv2D(32, kernel_size=(3, 3), activation='relu', input_shape=x_train.shape[1:]))\n",
    "model.add(Conv2D(64, kernel_size=(3, 3), activation='relu'))\n",
    "model.add(MaxPooling2D(pool_size=(2, 2)))\n",
    "model.add(Dropout(0.25))\n",
    "model.add(Flatten())\n",
    "model.add(Dense(128, activation='relu'))\n",
    "model.add(Dropout(0.5))\n",
    "model.add(Dense(y_train.shape[1], activation='softmax'))\n",
    "model.compile(loss=keras.losses.categorical_crossentropy, optimizer=keras.optimizers.Adadelta(), metrics=['accuracy'])\n",
    "model.fit(x_train, y_train,epochs=20)"
   ]
  },
  {
   "cell_type": "code",
   "execution_count": 19,
   "metadata": {},
   "outputs": [
    {
     "ename": "NameError",
     "evalue": "name 'x_test' is not defined",
     "output_type": "error",
     "traceback": [
      "\u001b[0;31m---------------------------------------------------------------------------\u001b[0m",
      "\u001b[0;31mNameError\u001b[0m                                 Traceback (most recent call last)",
      "\u001b[0;32m<ipython-input-19-557703b66ce1>\u001b[0m in \u001b[0;36m<module>\u001b[0;34m\u001b[0m\n\u001b[0;32m----> 1\u001b[0;31m \u001b[0mscore\u001b[0m \u001b[0;34m=\u001b[0m \u001b[0mmodel\u001b[0m\u001b[0;34m.\u001b[0m\u001b[0mevaluate\u001b[0m\u001b[0;34m(\u001b[0m\u001b[0mx_test\u001b[0m\u001b[0;34m,\u001b[0m \u001b[0my_test\u001b[0m\u001b[0;34m,\u001b[0m \u001b[0mverbose\u001b[0m\u001b[0;34m=\u001b[0m\u001b[0;36m0\u001b[0m\u001b[0;34m)\u001b[0m\u001b[0;34m\u001b[0m\u001b[0m\n\u001b[0m\u001b[1;32m      2\u001b[0m \u001b[0mprint\u001b[0m\u001b[0;34m(\u001b[0m\u001b[0;34m'Test loss:'\u001b[0m\u001b[0;34m,\u001b[0m \u001b[0mscore\u001b[0m\u001b[0;34m[\u001b[0m\u001b[0;36m0\u001b[0m\u001b[0;34m]\u001b[0m\u001b[0;34m)\u001b[0m\u001b[0;34m\u001b[0m\u001b[0m\n\u001b[1;32m      3\u001b[0m \u001b[0mprint\u001b[0m\u001b[0;34m(\u001b[0m\u001b[0;34m'Test accuracy:'\u001b[0m\u001b[0;34m,\u001b[0m \u001b[0mscore\u001b[0m\u001b[0;34m[\u001b[0m\u001b[0;36m1\u001b[0m\u001b[0;34m]\u001b[0m\u001b[0;34m)\u001b[0m\u001b[0;34m\u001b[0m\u001b[0m\n",
      "\u001b[0;31mNameError\u001b[0m: name 'x_test' is not defined"
     ]
    }
   ],
   "source": [
    "score = model.evaluate(x_test, y_test, verbose=0)\n",
    "print('Test loss:', score[0])\n",
    "print('Test accuracy:', score[1])"
   ]
  },
  {
   "cell_type": "code",
   "execution_count": null,
   "metadata": {},
   "outputs": [],
   "source": [
    "\n",
    "(x_train, y_train), (x_test, y_test) = mnist.load_data()\n",
    "x_train = x_train.reshape(x_train.shape+(1,))\n",
    "x_test = x_test.reshape(x_test.shape+(1,))\n",
    "y_encode = OneHotEncoder()\n",
    "def transform_y(y_train):\n",
    "    y_encoder = OneHotEncoder()\n",
    "    y_encoder.fit(y_train)\n",
    "    y_train = y_encoder.transform(y_train)\n",
    "    return y_train\n",
    "y_test = transform_y(y_test)\n",
    "y_train = transform_y(y_train)\n",
    "model = Sequential()\n",
    "model.add(Conv2D(32, kernel_size=(3, 3), activation='relu', input_shape=x_train.shape[1:]))\n",
    "model.add(Conv2D(64, kernel_size=(3, 3), activation='relu'))\n",
    "model.add(MaxPooling2D(pool_size=(2, 2)))\n",
    "model.add(Dropout(0.25))\n",
    "model.add(Flatten())\n",
    "model.add(Dense(128, activation='relu'))\n",
    "model.add(Dropout(0.5))\n",
    "model.add(Dense(10, activation='softmax'))\n",
    "model.compile(loss=keras.losses.categorical_crossentropy, optimizer=keras.optimizers.Adadelta(), metrics=['accuracy'])\n",
    "model.fit(x_train, y_train, validation_data=(x_test, y_test))\n",
    "score = model.evaluate(x_test, y_test, verbose=0)\n",
    "print('Test loss:', score[0])\n",
    "print('Test accuracy:', score[1])\n",
    "model.save('my_model.h5')"
   ]
  }
 ],
 "metadata": {
  "kernelspec": {
   "display_name": "Python 3",
   "language": "python",
   "name": "python3"
  },
  "language_info": {
   "codemirror_mode": {
    "name": "ipython",
    "version": 3
   },
   "file_extension": ".py",
   "mimetype": "text/x-python",
   "name": "python",
   "nbconvert_exporter": "python",
   "pygments_lexer": "ipython3",
   "version": "3.6.6"
  }
 },
 "nbformat": 4,
 "nbformat_minor": 2
}
